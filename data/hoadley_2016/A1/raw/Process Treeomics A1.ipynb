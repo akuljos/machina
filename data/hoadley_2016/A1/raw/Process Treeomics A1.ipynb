{
 "cells": [
  {
   "cell_type": "code",
   "execution_count": 129,
   "metadata": {},
   "outputs": [
    {
     "data": {
      "text/html": [
       "<div>\n",
       "<style>\n",
       "    .dataframe thead tr:only-child th {\n",
       "        text-align: right;\n",
       "    }\n",
       "\n",
       "    .dataframe thead th {\n",
       "        text-align: left;\n",
       "    }\n",
       "\n",
       "    .dataframe tbody tr th {\n",
       "        vertical-align: top;\n",
       "    }\n",
       "</style>\n",
       "<table border=\"1\" class=\"dataframe\">\n",
       "  <thead>\n",
       "    <tr style=\"text-align: right;\">\n",
       "      <th></th>\n",
       "      <th>cluster</th>\n",
       "      <th>ref-breast</th>\n",
       "      <th>ref-adrenal</th>\n",
       "      <th>ref-liver</th>\n",
       "      <th>ref-lung</th>\n",
       "      <th>ref-spinal</th>\n",
       "      <th>var-breast</th>\n",
       "      <th>var-adrenal</th>\n",
       "      <th>var-liver</th>\n",
       "      <th>var-lung</th>\n",
       "      <th>var-spinal</th>\n",
       "    </tr>\n",
       "    <tr>\n",
       "      <th>id</th>\n",
       "      <th></th>\n",
       "      <th></th>\n",
       "      <th></th>\n",
       "      <th></th>\n",
       "      <th></th>\n",
       "      <th></th>\n",
       "      <th></th>\n",
       "      <th></th>\n",
       "      <th></th>\n",
       "      <th></th>\n",
       "      <th></th>\n",
       "    </tr>\n",
       "  </thead>\n",
       "  <tbody>\n",
       "    <tr>\n",
       "      <th>1_110359957</th>\n",
       "      <td>7</td>\n",
       "      <td>150</td>\n",
       "      <td>158</td>\n",
       "      <td>104</td>\n",
       "      <td>151</td>\n",
       "      <td>142</td>\n",
       "      <td>4</td>\n",
       "      <td>2</td>\n",
       "      <td>20</td>\n",
       "      <td>0</td>\n",
       "      <td>0</td>\n",
       "    </tr>\n",
       "    <tr>\n",
       "      <th>6_48902663</th>\n",
       "      <td>6</td>\n",
       "      <td>189</td>\n",
       "      <td>150</td>\n",
       "      <td>97</td>\n",
       "      <td>147</td>\n",
       "      <td>178</td>\n",
       "      <td>0</td>\n",
       "      <td>27</td>\n",
       "      <td>0</td>\n",
       "      <td>1</td>\n",
       "      <td>0</td>\n",
       "    </tr>\n",
       "    <tr>\n",
       "      <th>6_49276467</th>\n",
       "      <td>9</td>\n",
       "      <td>117</td>\n",
       "      <td>91</td>\n",
       "      <td>144</td>\n",
       "      <td>85</td>\n",
       "      <td>63</td>\n",
       "      <td>1</td>\n",
       "      <td>0</td>\n",
       "      <td>0</td>\n",
       "      <td>0</td>\n",
       "      <td>17</td>\n",
       "    </tr>\n",
       "    <tr>\n",
       "      <th>6_50173697</th>\n",
       "      <td>9</td>\n",
       "      <td>179</td>\n",
       "      <td>117</td>\n",
       "      <td>92</td>\n",
       "      <td>126</td>\n",
       "      <td>115</td>\n",
       "      <td>0</td>\n",
       "      <td>0</td>\n",
       "      <td>0</td>\n",
       "      <td>0</td>\n",
       "      <td>30</td>\n",
       "    </tr>\n",
       "    <tr>\n",
       "      <th>6_50179508</th>\n",
       "      <td>6</td>\n",
       "      <td>141</td>\n",
       "      <td>113</td>\n",
       "      <td>98</td>\n",
       "      <td>113</td>\n",
       "      <td>128</td>\n",
       "      <td>0</td>\n",
       "      <td>26</td>\n",
       "      <td>0</td>\n",
       "      <td>0</td>\n",
       "      <td>0</td>\n",
       "    </tr>\n",
       "  </tbody>\n",
       "</table>\n",
       "</div>"
      ],
      "text/plain": [
       "             cluster  ref-breast  ref-adrenal  ref-liver  ref-lung  \\\n",
       "id                                                                   \n",
       "1_110359957        7         150          158        104       151   \n",
       "6_48902663         6         189          150         97       147   \n",
       "6_49276467         9         117           91        144        85   \n",
       "6_50173697         9         179          117         92       126   \n",
       "6_50179508         6         141          113         98       113   \n",
       "\n",
       "             ref-spinal  var-breast  var-adrenal  var-liver  var-lung  \\\n",
       "id                                                                      \n",
       "1_110359957         142           4            2         20         0   \n",
       "6_48902663          178           0           27          0         1   \n",
       "6_49276467           63           1            0          0         0   \n",
       "6_50173697          115           0            0          0         0   \n",
       "6_50179508          128           0           26          0         0   \n",
       "\n",
       "             var-spinal  \n",
       "id                       \n",
       "1_110359957           0  \n",
       "6_48902663            0  \n",
       "6_49276467           17  \n",
       "6_50173697           30  \n",
       "6_50179508            0  "
      ]
     },
     "execution_count": 129,
     "metadata": {},
     "output_type": "execute_result"
    }
   ],
   "source": [
    "def get_id(line):\n",
    "    return \"_\".join(map(str, [line['chromosome_name'], line['start']]))\n",
    "\n",
    "import pandas as pd\n",
    "table = pd.read_table(\"A1.tsv\")\n",
    "table['id']=table.apply(get_id, axis=1)\n",
    "table = table.set_index('id')\n",
    "table.columns\n",
    "\n",
    "ref_cols = ['tumor.rcnt.llr3_ref','adrenalmet.rcnt.llr3_ref', 'livermet.rcnt.llr3_ref', 'lungmet.rcnt.llr3_ref', 'spinalmet.rcnt.llr3_ref']\n",
    "var_cols = ['tumor.rcnt.llr3_var','adrenalmet.rcnt.llr3_var', 'livermet.rcnt.llr3_var', 'lungmet.rcnt.llr3_var', 'spinalmet.rcnt.llr3_var']\n",
    "\n",
    "#breast,adrenal,liver,lung,spinal\n",
    "cols = ['breast', 'adrenal', 'liver', 'lung', 'spinal']\n",
    "table = table[['cluster']+ref_cols+var_cols]\n",
    "table.columns = ['cluster']+['ref-'+c for c in cols] + ['var-'+c for c in cols]\n",
    "table.head()\n",
    "\n",
    "table.head()"
   ]
  },
  {
   "cell_type": "code",
   "execution_count": 130,
   "metadata": {
    "collapsed": true
   },
   "outputs": [],
   "source": [
    "filename=\"../../../../result/hoadley_2016/treeomics/A1_sub/mutations.txt\"\n",
    "\n",
    "clusters = []\n",
    "tree = {}\n",
    "with open(filename) as f:\n",
    "    for i,line in enumerate(f):\n",
    "        line = line.strip().split(\" \")\n",
    "        if line[1] not in tree:\n",
    "            tree[line[1][:-1]] = (line[0][:-1], i+1)\n",
    "        else:\n",
    "            tree[line[1][:-1]+\"_2\"] = (line[0][:-1], i+1)\n",
    "        clusters.append(line[2:])\n",
    "\n",
    "        \n",
    "table['tcluster'] = 0\n",
    "for i, cluster in enumerate(clusters):\n",
    "    for idx in cluster:\n",
    "        v = \"_\".join(idx.split('__')[:2])\n",
    "        try:\n",
    "            table.loc[v][\"tcluster\"] = i+1\n",
    "        except:\n",
    "            print idx\n",
    "        "
   ]
  },
  {
   "cell_type": "code",
   "execution_count": 131,
   "metadata": {},
   "outputs": [
    {
     "name": "stdout",
     "output_type": "stream",
     "text": [
      "spinal\n",
      "6\n",
      "2\n",
      "1\n",
      "liver_SC1\n",
      "12\n",
      "7\n",
      "1\n",
      "lung\n",
      "5\n",
      "3\n",
      "2\n",
      "1\n",
      "breast\n",
      "4\n",
      "3\n",
      "2\n",
      "1\n",
      "adrenal\n",
      "9\n",
      "8\n",
      "7\n",
      "1\n",
      "breast_SC1\n",
      "11\n",
      "7\n",
      "1\n",
      "liver\n",
      "10\n",
      "8\n",
      "7\n",
      "1\n"
     ]
    }
   ],
   "source": [
    "for sample in tree:\n",
    "    curs = sample\n",
    "    if sample.startswith('SC'): continue\n",
    "    print sample\n",
    "    while True:\n",
    "        try:\n",
    "            print tree[curs][1]\n",
    "            curs = tree[curs][0]\n",
    "        except:\n",
    "            break"
   ]
  },
  {
   "cell_type": "code",
   "execution_count": 132,
   "metadata": {
    "collapsed": true
   },
   "outputs": [],
   "source": [
    "def get_vaf(row, sam):\n",
    "    return float(row['var-'+sam])/float(row['var-'+sam]+row['ref-'+sam])\n",
    "\n",
    "#ctable_cutoff = table.groupby('cluster').mean()\n",
    "vafs = pd.DataFrame()\n",
    "for sam in cols:\n",
    "    vafs[sam] = table.apply(get_vaf, args=[sam], axis=1)\n",
    "vafs['cluster'] = table['cluster']\n",
    "vafs['tcluster'] = table['tcluster']"
   ]
  },
  {
   "cell_type": "code",
   "execution_count": 133,
   "metadata": {},
   "outputs": [
    {
     "data": {
      "text/html": [
       "<div>\n",
       "<style>\n",
       "    .dataframe thead tr:only-child th {\n",
       "        text-align: right;\n",
       "    }\n",
       "\n",
       "    .dataframe thead th {\n",
       "        text-align: left;\n",
       "    }\n",
       "\n",
       "    .dataframe tbody tr th {\n",
       "        vertical-align: top;\n",
       "    }\n",
       "</style>\n",
       "<table border=\"1\" class=\"dataframe\">\n",
       "  <thead>\n",
       "    <tr style=\"text-align: right;\">\n",
       "      <th></th>\n",
       "      <th></th>\n",
       "      <th>breast</th>\n",
       "      <th>adrenal</th>\n",
       "      <th>liver</th>\n",
       "      <th>lung</th>\n",
       "      <th>spinal</th>\n",
       "    </tr>\n",
       "    <tr>\n",
       "      <th>tcluster</th>\n",
       "      <th>cluster</th>\n",
       "      <th></th>\n",
       "      <th></th>\n",
       "      <th></th>\n",
       "      <th></th>\n",
       "      <th></th>\n",
       "    </tr>\n",
       "  </thead>\n",
       "  <tbody>\n",
       "    <tr>\n",
       "      <th>1</th>\n",
       "      <th>1</th>\n",
       "      <td>0.283901</td>\n",
       "      <td>0.330158</td>\n",
       "      <td>0.438077</td>\n",
       "      <td>0.191010</td>\n",
       "      <td>0.200579</td>\n",
       "    </tr>\n",
       "    <tr>\n",
       "      <th>2</th>\n",
       "      <th>3</th>\n",
       "      <td>0.228888</td>\n",
       "      <td>0.000710</td>\n",
       "      <td>0.000846</td>\n",
       "      <td>0.149339</td>\n",
       "      <td>0.194938</td>\n",
       "    </tr>\n",
       "    <tr>\n",
       "      <th rowspan=\"2\" valign=\"top\">3</th>\n",
       "      <th>5</th>\n",
       "      <td>0.225846</td>\n",
       "      <td>0.001270</td>\n",
       "      <td>0.001753</td>\n",
       "      <td>0.142480</td>\n",
       "      <td>0.004489</td>\n",
       "    </tr>\n",
       "    <tr>\n",
       "      <th>8</th>\n",
       "      <td>0.191176</td>\n",
       "      <td>0.000000</td>\n",
       "      <td>0.000000</td>\n",
       "      <td>0.047170</td>\n",
       "      <td>0.000000</td>\n",
       "    </tr>\n",
       "    <tr>\n",
       "      <th>4</th>\n",
       "      <th>8</th>\n",
       "      <td>0.203798</td>\n",
       "      <td>0.000407</td>\n",
       "      <td>0.000430</td>\n",
       "      <td>0.003941</td>\n",
       "      <td>0.000000</td>\n",
       "    </tr>\n",
       "    <tr>\n",
       "      <th>6</th>\n",
       "      <th>9</th>\n",
       "      <td>0.000902</td>\n",
       "      <td>0.000894</td>\n",
       "      <td>0.000275</td>\n",
       "      <td>0.001013</td>\n",
       "      <td>0.190299</td>\n",
       "    </tr>\n",
       "    <tr>\n",
       "      <th rowspan=\"2\" valign=\"top\">7</th>\n",
       "      <th>2</th>\n",
       "      <td>0.062006</td>\n",
       "      <td>0.400941</td>\n",
       "      <td>0.445730</td>\n",
       "      <td>0.015618</td>\n",
       "      <td>0.002354</td>\n",
       "    </tr>\n",
       "    <tr>\n",
       "      <th>4</th>\n",
       "      <td>0.049134</td>\n",
       "      <td>0.254255</td>\n",
       "      <td>0.271277</td>\n",
       "      <td>0.003668</td>\n",
       "      <td>0.000841</td>\n",
       "    </tr>\n",
       "    <tr>\n",
       "      <th rowspan=\"2\" valign=\"top\">8</th>\n",
       "      <th>2</th>\n",
       "      <td>0.027259</td>\n",
       "      <td>0.434409</td>\n",
       "      <td>0.427594</td>\n",
       "      <td>0.019017</td>\n",
       "      <td>0.000000</td>\n",
       "    </tr>\n",
       "    <tr>\n",
       "      <th>4</th>\n",
       "      <td>0.020496</td>\n",
       "      <td>0.207729</td>\n",
       "      <td>0.221792</td>\n",
       "      <td>0.003663</td>\n",
       "      <td>0.000719</td>\n",
       "    </tr>\n",
       "    <tr>\n",
       "      <th>9</th>\n",
       "      <th>6</th>\n",
       "      <td>0.000549</td>\n",
       "      <td>0.223056</td>\n",
       "      <td>0.001972</td>\n",
       "      <td>0.001001</td>\n",
       "      <td>0.000542</td>\n",
       "    </tr>\n",
       "    <tr>\n",
       "      <th>10</th>\n",
       "      <th>7</th>\n",
       "      <td>0.026130</td>\n",
       "      <td>0.000621</td>\n",
       "      <td>0.217263</td>\n",
       "      <td>0.000651</td>\n",
       "      <td>0.000000</td>\n",
       "    </tr>\n",
       "  </tbody>\n",
       "</table>\n",
       "</div>"
      ],
      "text/plain": [
       "                    breast   adrenal     liver      lung    spinal\n",
       "tcluster cluster                                                  \n",
       "1        1        0.283901  0.330158  0.438077  0.191010  0.200579\n",
       "2        3        0.228888  0.000710  0.000846  0.149339  0.194938\n",
       "3        5        0.225846  0.001270  0.001753  0.142480  0.004489\n",
       "         8        0.191176  0.000000  0.000000  0.047170  0.000000\n",
       "4        8        0.203798  0.000407  0.000430  0.003941  0.000000\n",
       "6        9        0.000902  0.000894  0.000275  0.001013  0.190299\n",
       "7        2        0.062006  0.400941  0.445730  0.015618  0.002354\n",
       "         4        0.049134  0.254255  0.271277  0.003668  0.000841\n",
       "8        2        0.027259  0.434409  0.427594  0.019017  0.000000\n",
       "         4        0.020496  0.207729  0.221792  0.003663  0.000719\n",
       "9        6        0.000549  0.223056  0.001972  0.001001  0.000542\n",
       "10       7        0.026130  0.000621  0.217263  0.000651  0.000000"
      ]
     },
     "execution_count": 133,
     "metadata": {},
     "output_type": "execute_result"
    }
   ],
   "source": [
    "vafs.groupby(['tcluster', 'cluster']).mean()"
   ]
  },
  {
   "cell_type": "code",
   "execution_count": 143,
   "metadata": {
    "scrolled": false
   },
   "outputs": [
    {
     "data": {
      "image/png": "[encoded data removed]",
      "text/plain": [
       "<matplotlib.figure.Figure at 0x122337950>"
      ]
     },
     "metadata": {},
     "output_type": "display_data"
    }
   ],
   "source": [
    "%matplotlib inline\n",
    "from matplotlib import pyplot\n",
    "v_sub = vafs[(vafs['tcluster'] == 8) | (vafs['tcluster'] == 8)]\n",
    "import seaborn as sns\n",
    "g = sns.PairGrid(v_sub, hue = 'tcluster', vars = ['breast', 'liver', 'adrenal'])\n",
    "g = g.map_upper(pyplot.scatter)\n",
    "g = g.map_diag(pyplot.hist, alpha = 0.6)\n",
    "g = g.set(xlim=(0,0.7), ylim=(0,0.7))"
   ]
  },
  {
   "cell_type": "code",
   "execution_count": 139,
   "metadata": {},
   "outputs": [
    {
     "data": {
      "image/png": "[encoded data removed]",
      "text/plain": [
       "<matplotlib.figure.Figure at 0x123262050>"
      ]
     },
     "metadata": {},
     "output_type": "display_data"
    }
   ],
   "source": [
    "from matplotlib import pyplot\n",
    "v_sub = vafs[(vafs['tcluster'] == 7 ) | (vafs['tcluster'] == 8)]\n",
    "import seaborn as sns\n",
    "g = sns.PairGrid(v_sub, hue = 'tcluster', vars = ['breast', 'liver', 'adrenal'])\n",
    "g = g.map_upper(pyplot.scatter)\n",
    "g = g.map_diag(pyplot.hist, alpha = 0.6)\n",
    "g = g.set(xlim=(0,0.7), ylim=(0,0.7))"
   ]
  },
  {
   "cell_type": "code",
   "execution_count": 136,
   "metadata": {},
   "outputs": [
    {
     "name": "stdout",
     "output_type": "stream",
     "text": [
      "(48, 7)\n",
      "48\n"
     ]
    },
    {
     "data": {
      "image/png": "[encoded data removed]",
      "text/plain": [
       "<matplotlib.figure.Figure at 0x121ee8650>"
      ]
     },
     "metadata": {},
     "output_type": "display_data"
    }
   ],
   "source": [
    "print vafs[vafs['tcluster']==8].shape\n",
    "print sum(table[table['tcluster']==8]['var-breast'] > 0)\n",
    "pyplot.subplot(2,2,1)\n",
    "sns.countplot(table[table['tcluster']==8]['var-breast'], palette = sns.color_palette([\"#2ecc71\"]))\n",
    "pyplot.xlabel(\"Number of Variant Reads in Breast\")\n",
    "pyplot.ylabel(\"Number of Mutations\")\n",
    "pyplot.xlim((-2, 9))\n",
    "pyplot.subplot(2,2,2)\n",
    "sns.countplot(table[table['tcluster']==10]['var-breast'], palette = sns.color_palette([\"#34495e\"]+[\"#2ecc71\"]*10))\n",
    "pyplot.xlabel(\"Number of Variant Reads in Breast\")\n",
    "pyplot.ylabel(\"Number of Mutations\")\n",
    "pyplot.xlim((-1, 10))\n",
    "#pyplot.xticks([0.90*v for v in range(0,11)], range(0,11))\n",
    "pyplot.subplot(2,2,3)\n",
    "sns.countplot(table[table['tcluster']==6]['var-breast'], palette = sns.color_palette([\"#34495e\"]+[\"#2ecc71\"]*10))\n",
    "pyplot.xlabel(\"Number of Variant Reads in Breast\")\n",
    "pyplot.ylabel(\"Number of Mutations\")\n",
    "pyplot.xlim((-1, 10))\n",
    "pyplot.xticks([0.95*v for v in range(0,11)], range(0,11))\n",
    "pyplot.subplot(2,2,4)\n",
    "sns.countplot(table[table['tcluster']==9]['var-breast'], palette = sns.color_palette([\"#34495e\"]+[\"#2ecc71\"]*10))\n",
    "pyplot.xlabel(\"Number of Variant Reads in Breast\")\n",
    "pyplot.ylabel(\"Number of Mutations\")\n",
    "pyplot.xlim((-1, 10))\n",
    "pyplot.xticks([0.95*v for v in range(0,11)], range(0,11))\n",
    "pyplot.gcf().set_size_inches(10,10)\n",
    "#pyplot.savefig\n",
    "\n",
    "#\"#34495e\", \n"
   ]
  },
  {
   "cell_type": "code",
   "execution_count": 228,
   "metadata": {},
   "outputs": [
    {
     "data": {
      "image/png": "[encoded data removed]",
      "text/plain": [
       "<matplotlib.figure.Figure at 0x122fed950>"
      ]
     },
     "metadata": {},
     "output_type": "display_data"
    }
   ],
   "source": [
    "sns.set_style('dark')\n",
    "\n",
    "#sns.palplot(sns.color_palette(\"Set2\", 10))\n",
    "for j,cluster in enumerate([8,6,9]):\n",
    "    pyplot.subplot(1,3,j+1)\n",
    "    v = table[table['tcluster']==cluster]['var-breast'].value_counts()\n",
    "    for i in range(0,11):\n",
    "        if  i not in v: v[i]=0\n",
    "    v.sort_index(inplace=True)\n",
    "    sns.set_palette(sns.color_palette([\"#34495e\"]+[\"#2ecc71\"]*10))\n",
    "    v.plot(kind='bar', rot=0)\n",
    "\n",
    "    sns.set_palette(sns.color_palette(\"Set2\", 10))\n",
    "    v[[0]].plot(kind='bar', rot=0)\n",
    "    pyplot.xlim((-1,11))\n",
    "    pyplot.xticks(range(0,11), range(0,11))\n",
    "    #if i in [0,1]: pyplot.ylim(0,20)\n",
    "    #else:  pyplot.ylim(0,60)\n",
    "\n",
    "    pyplot.xlabel('# Variant reads in breast')\n",
    "    if j in [0,2]: pyplot.ylabel('count')\n",
    "pyplot.gcf().set_size_inches(14,6)\n",
    "pyplot.savefig('Read_Distribution.pdf')\n",
    "pyplot.tight_layout()"
   ]
  },
  {
   "cell_type": "code",
   "execution_count": 230,
   "metadata": {},
   "outputs": [
    {
     "data": {
      "image/png": "[encoded data removed]",
      "text/plain": [
       "<matplotlib.figure.Figure at 0x1247638d0>"
      ]
     },
     "metadata": {},
     "output_type": "display_data"
    }
   ],
   "source": [
    "sns.set_context(\"paper\", font_scale=1.6)\n",
    "sns.set_palette(sns.color_palette([\"#3498db\", \"#34495e\"]))\n",
    "colors = ['dusty pink']\n",
    "sns.xkcd_palette(colors)\n",
    "vafs['c8'] = (vafs['tcluster'] == 8) \n",
    "for i,site in enumerate(['breast', 'liver', 'adrenal']): \n",
    "    pyplot.subplot(1,3,i+1)\n",
    "    #v_sub = vafs[(vafs['tcluster'] == 8)]\n",
    "    vsub = vafs[vafs[site]!= 0]\n",
    "    \n",
    "    # pyplot.xlim((0,0.6))\n",
    "    \n",
    "    #sns.distplot(vsub[vsub['c8'] == False][site], kde=False,  hist=True, bins=30, label='Other Mutations')\n",
    "    #sns.distplot(vsub[vsub['c8'] == True][site], kde=False, hist=True, label='Cluster 2/4)\n",
    "    pyplot.hist(vsub[vsub['c8'] == False][site],bins=30, label='Other Mutations' ,normed=True )\n",
    "    if site == 'breast':\n",
    "        bins = 5\n",
    "    else: bins = 30\n",
    "        \n",
    "    pyplot.hist(vsub[vsub['c8'] == True][site], bins = bins, label='Cluster 2/4', alpha = 0.6, normed=True)\n",
    "    \n",
    "    pyplot.xlim(0,0.6)\n",
    "    #sns.stripplot(vafs[site])\n",
    "    pyplot.legend()\n",
    "    #sns.stripplot(v_sub[site])\n",
    "    #sns.swarmplot(data = vafs, y = site, x = 'c8' )\n",
    "    #sns.violinplot(data = vafs, y = 'breast', hue = 'c8', split = 'True')\n",
    "    pyplot.xlabel('VAF in '+site)\n",
    "    if i == 0: pyplot.ylabel('count')\n",
    "\n",
    "pyplot.gcf().set_size_inches(14,6)\n",
    "pyplot.savefig('Hist_cluster2.pdf')"
   ]
  },
  {
   "cell_type": "code",
   "execution_count": 177,
   "metadata": {},
   "outputs": [
    {
     "name": "stdout",
     "output_type": "stream",
     "text": [
      "329\n"
     ]
    }
   ],
   "source": [
    "print len((vafs['tcluster'] == 8) )"
   ]
  },
  {
   "cell_type": "code",
   "execution_count": null,
   "metadata": {
    "collapsed": true
   },
   "outputs": [],
   "source": [
    "ax = sns.violinplot(x=\"day\", y=\"total_bill\", hue=\"smoker\", data=tips, palette=\"muted\", split=True)"
   ]
  },
  {
   "cell_type": "code",
   "execution_count": 178,
   "metadata": {},
   "outputs": [
    {
     "name": "stdout",
     "output_type": "stream",
     "text": [
      "329\n"
     ]
    }
   ],
   "source": [
    "print len(vafs[site])"
   ]
  },
  {
   "cell_type": "code",
   "execution_count": 179,
   "metadata": {},
   "outputs": [
    {
     "data": {
      "text/plain": [
       "id\n",
       "1_110359957    False\n",
       "6_48902663     False\n",
       "6_49276467     False\n",
       "6_50173697     False\n",
       "6_50179508     False\n",
       "6_50519104     False\n",
       "6_50534952     False\n",
       "6_50568504     False\n",
       "6_50909762     False\n",
       "6_51288265     False\n",
       "6_53035144      True\n",
       "6_55918529     False\n",
       "6_57180847     False\n",
       "6_58602457     False\n",
       "6_96859305     False\n",
       "6_97417052     False\n",
       "6_97473303     False\n",
       "6_97912586     False\n",
       "6_98144517      True\n",
       "6_99123934     False\n",
       "6_99144022     False\n",
       "6_100130338    False\n",
       "6_101334520    False\n",
       "6_102992907    False\n",
       "6_103034674    False\n",
       "6_103399899     True\n",
       "6_103477515    False\n",
       "6_103604780    False\n",
       "6_103810336    False\n",
       "6_104027186    False\n",
       "               ...  \n",
       "19_35635072    False\n",
       "19_36351696    False\n",
       "19_36621094    False\n",
       "19_36821124     True\n",
       "19_39059284    False\n",
       "19_40094764    False\n",
       "19_42129322    False\n",
       "19_42312834    False\n",
       "19_44578501    False\n",
       "19_44652253    False\n",
       "19_44778597    False\n",
       "19_44991316     True\n",
       "19_46786035    False\n",
       "19_57034973    False\n",
       "19_57610720    False\n",
       "19_57897877    False\n",
       "19_58326020    False\n",
       "19_58483172    False\n",
       "19_58850716    False\n",
       "19_59464954    False\n",
       "19_59741948    False\n",
       "19_61142880    False\n",
       "20_14276029    False\n",
       "20_14463421     True\n",
       "20_14753799    False\n",
       "20_14809183    False\n",
       "20_14833014     True\n",
       "20_25429155    False\n",
       "20_25706058    False\n",
       "20_26062570    False\n",
       "Name: tcluster, Length: 329, dtype: bool"
      ]
     },
     "execution_count": 179,
     "metadata": {},
     "output_type": "execute_result"
    }
   ],
   "source": [
    "(vafs['tcluster'] == 8) "
   ]
  },
  {
   "cell_type": "code",
   "execution_count": null,
   "metadata": {
    "collapsed": true
   },
   "outputs": [],
   "source": []
  }
 ],
 "metadata": {
  "kernelspec": {
   "display_name": "Python 2",
   "language": "python",
   "name": "python2"
  },
  "language_info": {
   "codemirror_mode": {
    "name": "ipython",
    "version": 2
   },
   "file_extension": ".py",
   "mimetype": "text/x-python",
   "name": "python",
   "nbconvert_exporter": "python",
   "pygments_lexer": "ipython2",
   "version": "2.7.13"
  }
 },
 "nbformat": 4,
 "nbformat_minor": 2
}
